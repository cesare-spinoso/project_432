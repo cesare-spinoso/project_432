{
 "cells": [
  {
   "cell_type": "markdown",
   "metadata": {
    "id": "_v0ZD8bFY0AL"
   },
   "source": [
    "# Model selection and final results\n",
    "In this notebook we select the model with the best out-of-sample error and evaluate it on the test set which has never been seen by any of the models (the second half of 2017).\n",
    "\n",
    "Although the time series + feature neural network achieved an impressive RMSE of aroound 400, using the best feature basis for the linear model along with the ARIMA model to account for some of the residual error we are able to achieve an RMSE of 350. We thus choose the linear model with ARIMA error, retrain it and provide test error metrics."
   ]
  },
  {
   "cell_type": "code",
   "execution_count": 1,
   "metadata": {
    "colab": {
     "base_uri": "https://localhost:8080/"
    },
    "executionInfo": {
     "elapsed": 594607,
     "status": "ok",
     "timestamp": 1607367508250,
     "user": {
      "displayName": "local host",
      "photoUrl": "",
      "userId": "13688081377154882910"
     },
     "user_tz": 300
    },
    "id": "ZBfCXMJ0ZqsM",
    "outputId": "0c3227d1-3fc0-4f39-d64c-f9d09f591819"
   },
   "outputs": [],
   "source": [
    "# Only necessary if running in colab\n",
    "# You may need to restart your runtime\n",
    "running_in_colab = 'google.colab' in str(get_ipython())\n",
    "if running_in_colab:\n",
    "  !pip install git+https://github.com/statsmodels/statsmodels\n",
    "  !pip install Cython\n",
    "  !pip install git+git://github.com/scikit-learn/scikit-learn.git"
   ]
  },
  {
   "cell_type": "code",
   "execution_count": 2,
   "metadata": {
    "executionInfo": {
     "elapsed": 595622,
     "status": "ok",
     "timestamp": 1607367509273,
     "user": {
      "displayName": "local host",
      "photoUrl": "",
      "userId": "13688081377154882910"
     },
     "user_tz": 300
    },
    "id": "PvL7GeQGZyvc"
   },
   "outputs": [],
   "source": [
    "import os\n",
    "import math # for the rmse\n",
    "\n",
    "import numpy as np\n",
    "import pandas as pd\n",
    "import matplotlib.pyplot as plt\n",
    "\n",
    "from sklearn.metrics import mean_squared_error\n",
    "from sklearn.linear_model import LinearRegression\n",
    "from statsmodels.tsa.arima.model import ARIMA\n",
    "\n",
    "# In case you are running this in colab\n",
    "# Add this to make it download\n",
    "if running_in_colab:\n",
    "  from google.colab import files "
   ]
  },
  {
   "cell_type": "code",
   "execution_count": 3,
   "metadata": {
    "executionInfo": {
     "elapsed": 595620,
     "status": "ok",
     "timestamp": 1607367509275,
     "user": {
      "displayName": "local host",
      "photoUrl": "",
      "userId": "13688081377154882910"
     },
     "user_tz": 300
    },
    "id": "2Ltk37m8mt6q"
   },
   "outputs": [],
   "source": [
    "# Create output directory\n",
    "path = 'output_final'\n",
    "if not os.path.exists(path):\n",
    "  os.mkdir(path)"
   ]
  },
  {
   "cell_type": "code",
   "execution_count": 4,
   "metadata": {
    "executionInfo": {
     "elapsed": 595620,
     "status": "ok",
     "timestamp": 1607367509278,
     "user": {
      "displayName": "local host",
      "photoUrl": "",
      "userId": "13688081377154882910"
     },
     "user_tz": 300
    },
    "id": "9lMnu75UirB8"
   },
   "outputs": [],
   "source": [
    "# We will use the last half-year as the test set\n",
    "test_size = 365*12"
   ]
  },
  {
   "cell_type": "code",
   "execution_count": 5,
   "metadata": {
    "executionInfo": {
     "elapsed": 597435,
     "status": "ok",
     "timestamp": 1607367511097,
     "user": {
      "displayName": "local host",
      "photoUrl": "",
      "userId": "13688081377154882910"
     },
     "user_tz": 300
    },
    "id": "Bzqzkp_ea0E_"
   },
   "outputs": [],
   "source": [
    "# Import the design matrix\n",
    "design_matrix = pd.read_csv(\"best_design_matrix.csv\", delimiter=\",\", index_col=0)\n",
    "# Make the columns categorical\n",
    "design_matrix['isWeekend'] = design_matrix['isWeekend'].astype('category')\n",
    "design_matrix['isHoliday'] = design_matrix['isHoliday'].astype('category')\n",
    "X_train = design_matrix[:-test_size]\n",
    "X_test = design_matrix[-test_size:]"
   ]
  },
  {
   "cell_type": "code",
   "execution_count": 6,
   "metadata": {
    "executionInfo": {
     "elapsed": 597764,
     "status": "ok",
     "timestamp": 1607367511429,
     "user": {
      "displayName": "local host",
      "photoUrl": "",
      "userId": "13688081377154882910"
     },
     "user_tz": 300
    },
    "id": "yA43KifEb3dL"
   },
   "outputs": [],
   "source": [
    "# Import the electricity demand and set the training and testing label\n",
    "data = pd.read_csv(\"MergedDataset.csv\", delimiter=\",\", index_col=0)\n",
    "data = data[data['Datetime'] >= '2012']\n",
    "data = data[data['Datetime'] < '2018']\n",
    "data.index = range(len(data))\n",
    "y = data['Toronto']\n",
    "y_train = y[:-test_size]\n",
    "y_test = y[-test_size:]"
   ]
  },
  {
   "cell_type": "code",
   "execution_count": 7,
   "metadata": {
    "colab": {
     "base_uri": "https://localhost:8080/"
    },
    "executionInfo": {
     "elapsed": 597713,
     "status": "ok",
     "timestamp": 1607367511432,
     "user": {
      "displayName": "local host",
      "photoUrl": "",
      "userId": "13688081377154882910"
     },
     "user_tz": 300
    },
    "id": "ZuCe8pdohJ-D",
    "outputId": "24f6f4f0-c84f-4cbc-f2cc-a8fef298b7f6"
   },
   "outputs": [
    {
     "name": "stdout",
     "output_type": "stream",
     "text": [
      "(48228,) (48228, 176)\n",
      "(4380,) (4380, 176)\n"
     ]
    }
   ],
   "source": [
    "print(y_train.shape, X_train.shape)\n",
    "print(y_test.shape, X_test.shape)"
   ]
  },
  {
   "cell_type": "code",
   "execution_count": 8,
   "metadata": {
    "colab": {
     "base_uri": "https://localhost:8080/"
    },
    "executionInfo": {
     "elapsed": 598529,
     "status": "ok",
     "timestamp": 1607367512257,
     "user": {
      "displayName": "local host",
      "photoUrl": "",
      "userId": "13688081377154882910"
     },
     "user_tz": 300
    },
    "id": "Anq_oEChbkok",
    "outputId": "36bb8409-2380-4acc-e83f-cdf3c79d253e"
   },
   "outputs": [
    {
     "data": {
      "text/plain": [
       "LinearRegression()"
      ]
     },
     "execution_count": 8,
     "metadata": {
      "tags": []
     },
     "output_type": "execute_result"
    }
   ],
   "source": [
    "# Train the linear model on all but the test set\n",
    "lm = LinearRegression()\n",
    "lm.fit(X_train, y_train)"
   ]
  },
  {
   "cell_type": "code",
   "execution_count": 9,
   "metadata": {
    "executionInfo": {
     "elapsed": 601392,
     "status": "ok",
     "timestamp": 1607367515123,
     "user": {
      "displayName": "local host",
      "photoUrl": "",
      "userId": "13688081377154882910"
     },
     "user_tz": 300
    },
    "id": "SfR5VlGKcs6p"
   },
   "outputs": [],
   "source": [
    "# Now train the ARIMA on the residual errors\n",
    "# Recall the optimal order was (1, 0, 0) i.e. just an additional autoregression\n",
    "# We don't use the wrapper function here just the original statsmodel fit and predict\n",
    "order = (1, 0, 0)\n",
    "ts_res = y_train - lm.predict(X_train)\n",
    "arima = ARIMA(ts_res, order=order)\n",
    "arima = arima.fit()"
   ]
  },
  {
   "cell_type": "code",
   "execution_count": 10,
   "metadata": {
    "executionInfo": {
     "elapsed": 601561,
     "status": "ok",
     "timestamp": 1607367515295,
     "user": {
      "displayName": "local host",
      "photoUrl": "",
      "userId": "13688081377154882910"
     },
     "user_tz": 300
    },
    "id": "zdK2LALXe8Q4"
   },
   "outputs": [],
   "source": [
    "# Predict test labels and residuals with linear model and arima\n",
    "y_pred = lm.predict(X_test)\n",
    "start = len(y_train)\n",
    "end = start + test_size\n",
    "y_res_pred = arima.predict(start, end-1)\n",
    "y_pred = y_pred + y_res_pred"
   ]
  },
  {
   "cell_type": "code",
   "execution_count": 11,
   "metadata": {
    "colab": {
     "base_uri": "https://localhost:8080/",
     "height": 295
    },
    "executionInfo": {
     "elapsed": 602027,
     "status": "ok",
     "timestamp": 1607367515771,
     "user": {
      "displayName": "local host",
      "photoUrl": "",
      "userId": "13688081377154882910"
     },
     "user_tz": 300
    },
    "id": "yLZtG5S0jNDK",
    "outputId": "02d40be8-cb1c-421e-af74-d670c3f2bb29"
   },
   "outputs": [
    {
     "data": {
      "application/javascript": [
       "\n",
       "    async function download(id, filename, size) {\n",
       "      if (!google.colab.kernel.accessAllowed) {\n",
       "        return;\n",
       "      }\n",
       "      const div = document.createElement('div');\n",
       "      const label = document.createElement('label');\n",
       "      label.textContent = `Downloading \"${filename}\": `;\n",
       "      div.appendChild(label);\n",
       "      const progress = document.createElement('progress');\n",
       "      progress.max = size;\n",
       "      div.appendChild(progress);\n",
       "      document.body.appendChild(div);\n",
       "\n",
       "      const buffers = [];\n",
       "      let downloaded = 0;\n",
       "\n",
       "      const channel = await google.colab.kernel.comms.open(id);\n",
       "      // Send a message to notify the kernel that we're ready.\n",
       "      channel.send({})\n",
       "\n",
       "      for await (const message of channel.messages) {\n",
       "        // Send a message to notify the kernel that we're ready.\n",
       "        channel.send({})\n",
       "        if (message.buffers) {\n",
       "          for (const buffer of message.buffers) {\n",
       "            buffers.push(buffer);\n",
       "            downloaded += buffer.byteLength;\n",
       "            progress.value = downloaded;\n",
       "          }\n",
       "        }\n",
       "      }\n",
       "      const blob = new Blob(buffers, {type: 'application/binary'});\n",
       "      const a = document.createElement('a');\n",
       "      a.href = window.URL.createObjectURL(blob);\n",
       "      a.download = filename;\n",
       "      div.appendChild(a);\n",
       "      a.click();\n",
       "      div.remove();\n",
       "    }\n",
       "  "
      ],
      "text/plain": [
       "<IPython.core.display.Javascript object>"
      ]
     },
     "metadata": {
      "tags": []
     },
     "output_type": "display_data"
    },
    {
     "data": {
      "application/javascript": [
       "download(\"download_a5c7d434-38e5-4135-a580-0a8d53e8e788\", \"final_prediction.png\", 39669)"
      ],
      "text/plain": [
       "<IPython.core.display.Javascript object>"
      ]
     },
     "metadata": {
      "tags": []
     },
     "output_type": "display_data"
    },
    {
     "data": {
      "image/png": "[encoded data removed]",
      "text/plain": [
       "<Figure size 432x288 with 1 Axes>"
      ]
     },
     "metadata": {
      "needs_background": "light",
      "tags": []
     },
     "output_type": "display_data"
    }
   ],
   "source": [
    "# We plot the true test set and the linear model prediction\n",
    "y_test.index = range(len(y_test))\n",
    "y_pred.index = range(len(y_pred))\n",
    "plt.plot(y_test, label=\"True electricity demand\")\n",
    "plt.plot(y_pred, alpha=0.7, label=\"Predicted electricity demand\");\n",
    "plt.title(\"Electricity demand prediction for the second half of 2017 (test set)\")\n",
    "plt.xlabel(\"Time step (Hours)\")\n",
    "plt.ylabel(\"Electricity demand (kWh)\")\n",
    "plt.legend()\n",
    "filename = path + \"/final_prediction.png\"\n",
    "plt.savefig(filename)\n",
    "if running_in_colab:\n",
    "  files.download(filename)"
   ]
  },
  {
   "cell_type": "code",
   "execution_count": 12,
   "metadata": {
    "executionInfo": {
     "elapsed": 602027,
     "status": "ok",
     "timestamp": 1607367515776,
     "user": {
      "displayName": "local host",
      "photoUrl": "",
      "userId": "13688081377154882910"
     },
     "user_tz": 300
    },
    "id": "DnBYl59lkbyb"
   },
   "outputs": [],
   "source": [
    "# Compute the test time performance\n",
    "mse = mean_squared_error(y_true=y_test, y_pred=y_pred)\n",
    "rmse = math.sqrt(mse)"
   ]
  },
  {
   "cell_type": "code",
   "execution_count": 13,
   "metadata": {
    "colab": {
     "base_uri": "https://localhost:8080/"
    },
    "executionInfo": {
     "elapsed": 602018,
     "status": "ok",
     "timestamp": 1607367515778,
     "user": {
      "displayName": "local host",
      "photoUrl": "",
      "userId": "13688081377154882910"
     },
     "user_tz": 300
    },
    "id": "xZwZtY15lGMh",
    "outputId": "d99b9f90-56e4-489c-e4e8-615c0e5acaa1"
   },
   "outputs": [
    {
     "name": "stdout",
     "output_type": "stream",
     "text": [
      "The test set rmse is 409.6702\n"
     ]
    }
   ],
   "source": [
    "print(f\"The test set rmse is {round(rmse, 4)}\")"
   ]
  },
  {
   "cell_type": "code",
   "execution_count": 14,
   "metadata": {
    "executionInfo": {
     "elapsed": 602017,
     "status": "ok",
     "timestamp": 1607367515780,
     "user": {
      "displayName": "local host",
      "photoUrl": "",
      "userId": "13688081377154882910"
     },
     "user_tz": 300
    },
    "id": "Bertw32elIFy"
   },
   "outputs": [],
   "source": [
    "# We also compute thte mean absolute percentage error to provide\n",
    "# a more interpretable result\n",
    "mape = 100 * np.abs((y_test - y_pred)/y_test).mean() "
   ]
  },
  {
   "cell_type": "code",
   "execution_count": 15,
   "metadata": {
    "colab": {
     "base_uri": "https://localhost:8080/"
    },
    "executionInfo": {
     "elapsed": 602011,
     "status": "ok",
     "timestamp": 1607367515782,
     "user": {
      "displayName": "local host",
      "photoUrl": "",
      "userId": "13688081377154882910"
     },
     "user_tz": 300
    },
    "id": "4HhVQKc3mRWX",
    "outputId": "3ca5f547-861a-465a-b016-8878e4c32916"
   },
   "outputs": [
    {
     "name": "stdout",
     "output_type": "stream",
     "text": [
      "The percentage error is 5.9023%\n"
     ]
    }
   ],
   "source": [
    "print(f\"The percentage error is {round(mape, 4)}%\") # "
   ]
  },
  {
   "cell_type": "markdown",
   "metadata": {
    "id": "Ro96IcXHqYef"
   },
   "source": [
    "With a test RMSE of 409 and a percentage error of 5.9% we believe that we have achieve satisfactory prediction performance.\n",
    "\n",
    "C'est fini :)"
   ]
  }
 ],
 "metadata": {
  "colab": {
   "collapsed_sections": [],
   "name": "Final_results_Final.ipynb",
   "provenance": []
  },
  "kernelspec": {
   "display_name": "Python 3",
   "language": "python",
   "name": "python3"
  },
  "language_info": {
   "codemirror_mode": {
    "name": "ipython",
    "version": 3
   },
   "file_extension": ".py",
   "mimetype": "text/x-python",
   "name": "python",
   "nbconvert_exporter": "python",
   "pygments_lexer": "ipython3",
   "version": "3.8.3"
  }
 },
 "nbformat": 4,
 "nbformat_minor": 1
}
